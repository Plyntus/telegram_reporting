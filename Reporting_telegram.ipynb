{
 "cells": [
  {
   "cell_type": "code",
   "execution_count": null,
   "metadata": {},
   "outputs": [],
   "source": [
    "import psycopg2\n",
    "import calendar\n",
    "import datetime\n",
    "import time\n",
    "import requests\n",
    "import schedule"
   ]
  },
  {
   "cell_type": "code",
   "execution_count": null,
   "metadata": {},
   "outputs": [],
   "source": [
    "#подключение к базе\n",
    "conn = psycopg2.connect( host=\"\",\n",
    "       database=\"\",\n",
    "       user=\"\",\n",
    "       password=\"\",\n",
    "       port=\"\")\n",
    "# запрос к базе, текст запроса хранится отдельно\n",
    "def get_query(query):\n",
    "    try:\n",
    "        cur = conn.cursor() cur.execute(query)\n",
    "        rows = cur.fetchall()\n",
    "        return rows\n",
    "        cur.close()\n",
    "    except (Exception, psycopg2.DatabaseError) as error:\n",
    "        print(error)"
   ]
  },
  {
   "cell_type": "markdown",
   "metadata": {},
   "source": [
    "Запросы с метриками"
   ]
  },
  {
   "cell_type": "code",
   "execution_count": null,
   "metadata": {},
   "outputs": [],
   "source": [
    "queries = {'Yesterday sales': \"\"\"\n",
    "                            SELECT date, daily_sum, monthly_sum\n",
    "                            FROM (\n",
    "                            SELECT \n",
    "                            DISTINCT(transaction_created_at::date) AS date,\n",
    "                            SUM(amount::float) OVER (PARTITION BY transaction_created_at::date) AS daily_sum\n",
    "                            SUM(amount::float) OVER (PARTITION BY EXTRACT (month FROM transaction_created_at::date)) AS montly_sum\n",
    "                            FROM public.payments\n",
    "                            ORDER BY date) AS sales\n",
    "                            WHERE date = current_date - INTEGER '1'\n",
    "                            \"\"\",\n",
    "           'Yesterday events': \"\"\"\n",
    "                            SELECT \n",
    "                            happened_at::date AS date,\n",
    "                            public.events_dict._description AS event,\n",
    "                            COUNT(DISTINCT(_user_id)) AS users\n",
    "                            FROM public.events\n",
    "                             LEFT JOIN public.events_dict ON id=event.id\n",
    "                            WHERE happened_at::date = current_date - INTEGER '1'\n",
    "                            GROUP BY happened_at::date, _description\n",
    "                            \"\"\",\n",
    "           'Yesterday unique events': \"\"\"\n",
    "                            SELECT \n",
    "                            events.happened_at::date AS date,\n",
    "                            descriptions._description AS event,\n",
    "                            COUNT(DISTINCT(events._user_id)) AS count\n",
    "                            FROM public.events AS events\n",
    "                             INNER JOIN (\n",
    "                              SELECT happened_at::date AS date, _user_id, event_id\n",
    "                              FROM public.events\n",
    "                              WHERE happened_at::date = current_date - INTEGER '1 AND event_id::int = 3') users\n",
    "                              ON events._user_id = users._user_id\n",
    "                             LEFT JOIN public.events_dict AS descriptions ON descriptions.id = events.event_id\n",
    "                            WHERE happened_at::date = current_date - INTEGER '1'\n",
    "                            GROUP BY events.happened_at::date, descriptions._description\n",
    "                            \"\"\"\n",
    "}"
   ]
  },
  {
   "cell_type": "markdown",
   "metadata": {},
   "source": [
    "Метрики продаж"
   ]
  },
  {
   "cell_type": "code",
   "execution_count": null,
   "metadata": {},
   "outputs": [],
   "source": [
    "def get_sales_metric():\n",
    "    today = datetime.datetime.now()\n",
    "    sales = get_query(queries['Yesterday sales'])\n",
    "    date = sales[0][0]\n",
    "    yesterday_sales = sales[0][1]\n",
    "    this_month_sales = sales[0][2]\n",
    "    days_passed = sales[0][0].day\n",
    "    days_ttl = calendar.monthrange(today.year, today.month)[1]\n",
    "    runrate = this_month_sales / days_passed * days_ttl\n",
    "    return date, int(yesterday_sales), int(this_month_sales), int(runrate)"
   ]
  },
  {
   "cell_type": "markdown",
   "metadata": {},
   "source": [
    "Метрики событий за вчера"
   ]
  },
  {
   "cell_type": "code",
   "execution_count": null,
   "metadata": {},
   "outputs": [],
   "source": [
    "def get_events_metric(): \n",
    "    events_rows = get_query(queries['Yesterday events'] \n",
    "    events = {}\n",
    "    for event in events_rows:\n",
    "        events[event[1]] = event[2]\n",
    "    call_1_success = events['Ученик ответил на звонок оператора 1Л']\n",
    "    intro_lesson = events[\"Назначение ВУ\"]\n",
    "    return call_1_success, intro_lesson"
   ]
  },
  {
   "cell_type": "markdown",
   "metadata": {},
   "source": [
    "Уникальные события"
   ]
  },
  {
   "cell_type": "code",
   "execution_count": null,
   "metadata": {},
   "outputs": [],
   "source": [
    "def get_unique_events_metric(): \n",
    "    events_rows = get_query(queries['Yesterday unique events'] \n",
    "    events = {}\n",
    "    for event in events_rows:\n",
    "        events[event[1]] = event[2]\n",
    "    yesterday_requests = events['Назначение задачи на звонок 1Л']\n",
    "    yesterday_success_call_1 = events['Учение ответил на звонок оператора 1л']\n",
    "    yesterday_lesson = events['Назначение ВУ']\n",
    "    to_call_conv = int(yesterday_success_call_1 / yesterday_requests * 100) \n",
    "    to_lesson_conv = int(yesterday_lesson / yesterday_success_call_1 * 100) \n",
    "    return yesterday_requests, yesterday_success_call_1, yesterday_lesson, to_call_conv, to_lesson_conv"
   ]
  },
  {
   "cell_type": "markdown",
   "metadata": {},
   "source": [
    "Телеграм бот для отправки уведомления"
   ]
  },
  {
   "cell_type": "code",
   "execution_count": null,
   "metadata": {},
   "outputs": [],
   "source": [
    "def telegram_bot_sendtext(bot_message):\n",
    "    bot_token = ''\n",
    "    bot_chatID = ''\n",
    "    send_text = 'https://api.telegram.org/bot' + bot_token + \n",
    "                '/sendMessage?chat_id=' + bot_chatID + '&parse_mode=Markdown&text=' + bot_message\n",
    "    response = requests.get(send_text)\n",
    "    return response.json()"
   ]
  },
  {
   "cell_type": "markdown",
   "metadata": {},
   "source": [
    "Сам отчет"
   ]
  },
  {
   "cell_type": "code",
   "execution_count": null,
   "metadata": {},
   "outputs": [],
   "source": [
    "def report():\n",
    "    metric_1 = get_salec_metric()\n",
    "    metric_2 = get_unique_events_metric()\n",
    "    metric_3 = get_events_metric()\n",
    "    list = ['Привет! Продажи на {}: {} руб. \\n'.format(metric_1[0], metric_1[1]),\n",
    "            'За месяц накоплено: {} руб., прогноз на конец мес.: {} руб. \\n'.format(metric_1[2], metric_1[3]),\n",
    "            'Мы получили {} заявок на звонки, {} прозвонили ({}%) \\n'.format(metric_2[0], metric_2[1], metric_2[3]),\n",
    "            '{} из этих звонков закончились назначением урока ({}%) \\n'.format(metric_2[2], metric_2[4]),\n",
    "            'В общем сложности мы сделали {} звонков и назначили {} уроков \\n'.format(metric_3[0], metric_3[1])\n",
    "            ]\n",
    "    report = ''.join(list)\n",
    "    telegram_bot_sendtext(report)"
   ]
  },
  {
   "cell_type": "markdown",
   "metadata": {},
   "source": [
    "Запуск"
   ]
  },
  {
   "cell_type": "code",
   "execution_count": null,
   "metadata": {},
   "outputs": [],
   "source": [
    "# таймер на 9 утра\n",
    "schedule.every().day.at('09:00').do(report)\n",
    "while True: \n",
    "    schedule.run_pending() \n",
    "    time.sleep(1)\n",
    "# закрываем соединение к БД\n",
    "if conn is not None: conn.close()"
   ]
  }
 ],
 "metadata": {
  "kernelspec": {
   "display_name": "Python 3 (ipykernel)",
   "language": "python",
   "name": "python3"
  },
  "language_info": {
   "codemirror_mode": {
    "name": "ipython",
    "version": 3
   },
   "file_extension": ".py",
   "mimetype": "text/x-python",
   "name": "python",
   "nbconvert_exporter": "python",
   "pygments_lexer": "ipython3",
   "version": "3.9.7"
  }
 },
 "nbformat": 4,
 "nbformat_minor": 4
}
